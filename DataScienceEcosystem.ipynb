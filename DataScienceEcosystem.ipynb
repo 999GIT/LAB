{
  "metadata": {
    "language_info": {
      "codemirror_mode": {
        "name": "javascript"
      },
      "file_extension": ".js",
      "mimetype": "text/javascript",
      "name": "javascript",
      "nbconvert_exporter": "javascript",
      "pygments_lexer": "javascript",
      "version": "es2017"
    },
    "kernelspec": {
      "name": "javascript",
      "display_name": "JavaScript",
      "language": "javascript"
    }
  },
  "nbformat_minor": 4,
  "nbformat": 4,
  "cells": [
    {
      "cell_type": "markdown",
      "source": "## This is the exam preparation file by Georg ",
      "metadata": {}
    },
    {
      "cell_type": "markdown",
      "source": "Exercise 1: Create a new Jupyter notebook called DataScienceEcosystem.ipynb",
      "metadata": {}
    },
    {
      "cell_type": "markdown",
      "source": "\"a) click on plus, generate new notebook, b)  right mouse click on name -> rename or F2\"",
      "metadata": {}
    },
    {
      "cell_type": "markdown",
      "source": "Exercise 2: \"# Data Science Tools and Ecosystem\"",
      "metadata": {}
    },
    {
      "cell_type": "markdown",
      "source": "# Data Science Tools and Ecosystem",
      "metadata": {}
    },
    {
      "cell_type": "markdown",
      "source": "Exercise 3: Create a markdown cell for an introduction",
      "metadata": {}
    },
    {
      "cell_type": "markdown",
      "source": "In this notebook, Data Science Tools and Ecosystem are summarized.",
      "metadata": {}
    },
    {
      "cell_type": "markdown",
      "source": "**Objectives**\nList popular languages for Data Science\n* Phyton\n* R\n* SQl \n* C++\n* many more",
      "metadata": {}
    },
    {
      "cell_type": "markdown",
      "source": "Exercise 4: Create a markdown cell to list data science languages = create an ordered list",
      "metadata": {}
    },
    {
      "cell_type": "markdown",
      "source": "1. Phyton\n2. R\n3. SQL",
      "metadata": {}
    },
    {
      "cell_type": "markdown",
      "source": "Exercise 5: Create a markdown cell to list data science libraries = create an ordered list",
      "metadata": {}
    },
    {
      "cell_type": "markdown",
      "source": "Some of the commonly used libraries used by Data Scientists include:\n1. Panda\n2. NumPy \n3. SciPy \n4. Scikit\n5. TensorFlow \n6. Keras",
      "metadata": {}
    },
    {
      "cell_type": "markdown",
      "source": "Exercise 6 - Create a markdown cell with a table of Data Science tools = single column table with the header: Data Science Tools",
      "metadata": {}
    },
    {
      "cell_type": "markdown",
      "source": "|Data Science Tools|\n|---|\n|Apache Hadoop|\n|Apache Spark|\n|Jupyter|\n    ",
      "metadata": {}
    },
    {
      "cell_type": "markdown",
      "source": "Exercise 7 - Create a markdown cell introducing arithmetic expression examples = use ### before the Text",
      "metadata": {}
    },
    {
      "cell_type": "markdown",
      "source": "### Below are a few examples of evaluating arithmetic expressions in Python",
      "metadata": {}
    },
    {
      "cell_type": "markdown",
      "source": "Exercise 8 - Create a code cell to multiply and add numbers",
      "metadata": {}
    },
    {
      "cell_type": "markdown",
      "source": "This a simple arithmetic expression to mutiply then add integers.\nthe following operation is supposed to be calculated: (3*4)+5 = 17\n\nIn order to do so the code to be entered is: \n\nvalue1 = \"3\"\nvalue2 = \"4\"\nvalue3 = \"5\"\ncalc = (int(value1))*(int(value2))+(int(value3))\nprint(calc)",
      "metadata": {}
    },
    {
      "cell_type": "code",
      "source": "value1 = \"3\"\nvalue2 = \"4\"\nvalue3 = \"5\"\ncalc = (int(value1))*(int(value2))+(int(value3))\nprint(calc)\n",
      "metadata": {
        "trusted": true
      },
      "execution_count": 6,
      "outputs": [
        {
          "ename": "ReferenceError",
          "evalue": "int is not defined",
          "traceback": [
            "ReferenceError: int is not defined\n    at eval (eval at <anonymous> (eval at s (https://cf-courses-data.s3.us.cloud-object-storage.appdomain.cloud/jupyterlite/build/1013.198e0ed.js:1:1)), <anonymous>:4:1)\n    at eval (<anonymous>)\n    at s.eval [as _evalFunc] (eval at s (https://cf-courses-data.s3.us.cloud-object-storage.appdomain.cloud/jupyterlite/build/1013.198e0ed.js:1:1), <anonymous>:3:15)\n    at s._eval (https://cf-courses-data.s3.us.cloud-object-storage.appdomain.cloud/jupyterlite/build/1013.198e0ed.js:1:2500)\n    at s.executeRequest (https://cf-courses-data.s3.us.cloud-object-storage.appdomain.cloud/jupyterlite/build/1013.198e0ed.js:1:1371)\n    at s._execute (https://cf-courses-data.s3.us.cloud-object-storage.appdomain.cloud/jupyterlite/build/6433.f0c6d8f.js:1:6015)\n    at s.handleMessage (https://cf-courses-data.s3.us.cloud-object-storage.appdomain.cloud/jupyterlite/build/6433.f0c6d8f.js:1:2290)\n    at https://cf-courses-data.s3.us.cloud-object-storage.appdomain.cloud/jupyterlite/build/6433.f0c6d8f.js:1:10032\n    at https://cf-courses-data.s3.us.cloud-object-storage.appdomain.cloud/jupyterlite/build/6433.f0c6d8f.js:1:9106\n    at d.<anonymous> (https://cf-courses-data.s3.us.cloud-object-storage.appdomain.cloud/jupyterlite/build/6433.f0c6d8f.js:1:7792)"
          ],
          "output_type": "error"
        }
      ]
    },
    {
      "cell_type": "markdown",
      "source": "Exercise 9 - Create a code cell to convert minutes to hours",
      "metadata": {}
    },
    {
      "cell_type": "markdown",
      "source": "TASK: \nThis will convert 200 minutes to hours by diving by 60.\n200 minutes into hours",
      "metadata": {}
    },
    {
      "cell_type": "code",
      "source": "'This will convert 200 minutes to hours by diving by 60'\nmin = \"200\"\nhours = \"60\"\ncalc2 = (float(min))/(float(hours))\nprint(calc2)",
      "metadata": {
        "trusted": true
      },
      "execution_count": 8,
      "outputs": [
        {
          "ename": "ReferenceError",
          "evalue": "float is not defined",
          "traceback": [
            "ReferenceError: float is not defined\n    at eval (eval at <anonymous> (eval at s (https://cf-courses-data.s3.us.cloud-object-storage.appdomain.cloud/jupyterlite/build/1013.198e0ed.js:1:1)), <anonymous>:4:1)\n    at eval (<anonymous>)\n    at s.eval [as _evalFunc] (eval at s (https://cf-courses-data.s3.us.cloud-object-storage.appdomain.cloud/jupyterlite/build/1013.198e0ed.js:1:1), <anonymous>:3:15)\n    at s._eval (https://cf-courses-data.s3.us.cloud-object-storage.appdomain.cloud/jupyterlite/build/1013.198e0ed.js:1:2500)\n    at s.executeRequest (https://cf-courses-data.s3.us.cloud-object-storage.appdomain.cloud/jupyterlite/build/1013.198e0ed.js:1:1371)\n    at s._execute (https://cf-courses-data.s3.us.cloud-object-storage.appdomain.cloud/jupyterlite/build/6433.f0c6d8f.js:1:6015)\n    at s.handleMessage (https://cf-courses-data.s3.us.cloud-object-storage.appdomain.cloud/jupyterlite/build/6433.f0c6d8f.js:1:2290)\n    at https://cf-courses-data.s3.us.cloud-object-storage.appdomain.cloud/jupyterlite/build/6433.f0c6d8f.js:1:10032\n    at https://cf-courses-data.s3.us.cloud-object-storage.appdomain.cloud/jupyterlite/build/6433.f0c6d8f.js:1:9106\n    at d.<anonymous> (https://cf-courses-data.s3.us.cloud-object-storage.appdomain.cloud/jupyterlite/build/6433.f0c6d8f.js:1:7792)"
          ],
          "output_type": "error"
        }
      ]
    },
    {
      "cell_type": "markdown",
      "source": "Exercise 10 - Insert a markdown cell to list Objectives",
      "metadata": {}
    },
    {
      "cell_type": "markdown",
      "source": "Below the introduction cell created in Exercise 3, insert a new markdown cell to list the objectives that this notebook covered. \nIn this new cell start with an introductory line titled: Objectives: in bold font. \nThen using an unordered list (bullets) indicate 3 to 5 items covered in this notebook, such as List popular languages for Data Science.\n",
      "metadata": {}
    },
    {
      "cell_type": "markdown",
      "source": "Exercise 11 - Create a markdown cell to indicate the Author's name",
      "metadata": {}
    },
    {
      "cell_type": "markdown",
      "source": "In this markdown cell markdown cell include the following text Author in H2 style heading. Include your name as regular text below the word Author",
      "metadata": {}
    },
    {
      "cell_type": "markdown",
      "source": "## Author\nGeorg",
      "metadata": {}
    },
    {
      "cell_type": "markdown",
      "source": "Exercise 12 - Share your notebook through GitHub",
      "metadata": {}
    },
    {
      "cell_type": "code",
      "source": "Upload your notebook to a public respository on GitHub.",
      "metadata": {},
      "execution_count": null,
      "outputs": []
    }
  ]
}